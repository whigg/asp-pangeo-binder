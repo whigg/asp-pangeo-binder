{
 "cells": [
  {
   "cell_type": "markdown",
   "metadata": {},
   "source": [
    "# Exploring SkySat video for DEM generation\n",
    "\n",
    "This dataset was acquired over Breckenridge Colorado on 2018-11-07\n",
    "\n"
   ]
  },
  {
   "cell_type": "code",
   "execution_count": null,
   "metadata": {},
   "outputs": [],
   "source": [
    "# Analysis packages\n",
    "import geopandas as gpd\n",
    "import gcsfs\n",
    "from shapely import wkt\n",
    "import rasterio\n",
    "import numpy as np\n",
    "\n",
    "# Visualization packages\n",
    "import matplotlib.pyplot as plt\n",
    "from IPython.display import HTML\n",
    "import geoviews as gv\n",
    "import holoviews as hv\n",
    "hv.notebook_extension('bokeh')\n",
    "%matplotlib inline"
   ]
  },
  {
   "cell_type": "markdown",
   "metadata": {},
   "source": [
    "### We've stored the data in a GCS bucket. list the contents"
   ]
  },
  {
   "cell_type": "code",
   "execution_count": null,
   "metadata": {},
   "outputs": [],
   "source": [
    "bucket = 'skysat'\n",
    "\n",
    "fs = gcsfs.GCSFileSystem(project='pangeo-181919')\n",
    "objects = fs.ls(f'pangeo-data/{bucket}')\n",
    "\n",
    "print('Number of objects:', len(objects))\n",
    "print('Objects:', objects)"
   ]
  },
  {
   "cell_type": "code",
   "execution_count": null,
   "metadata": {},
   "outputs": [],
   "source": [
    "fs.ls('pangeo-data/skysat/breckenridge/video/unstabilized/unstabilized.mp4')"
   ]
  },
  {
   "cell_type": "markdown",
   "metadata": {},
   "source": [
    "### Look at the unstabilized video to get a feel for the dataset\n",
    "\n",
    "* Notice that the imagery is acquired at an oblique angle (40 to 60 degrees off nadir)"
   ]
  },
  {
   "cell_type": "code",
   "execution_count": null,
   "metadata": {},
   "outputs": [],
   "source": [
    "remotePath = 'pangeo-data/skysat/breckenridge/video/unstabilized/unstabilized.mp4'\n",
    "fs.get(remotePath, './unstabilized.mp4')"
   ]
  },
  {
   "cell_type": "code",
   "execution_count": null,
   "metadata": {},
   "outputs": [],
   "source": [
    "%%HTML\n",
    "<video width=\"600\" height=\"400\" controls>\n",
    "  <source src=\"./unstabilized.mp4\" type=\"video/mp4\">\n",
    "</video>"
   ]
  },
  {
   "cell_type": "markdown",
   "metadata": {},
   "source": [
    "### metadata.txt"
   ]
  },
  {
   "cell_type": "code",
   "execution_count": null,
   "metadata": {},
   "outputs": [],
   "source": [
    "# NOTE: had to enclose polygon in quotes in order to load\n",
    "#pangeo-data/skysat/breckenridge/video/metadata.txt\n",
    "path = 'pangeo-data/skysat/breckenridge/video/metadata.txt'\n",
    "with fs.open(path) as f:\n",
    "    df = gpd.pd.read_csv(f, header=None, names=['key', 'value'], quotechar='\"', index_col='key').T"
   ]
  },
  {
   "cell_type": "code",
   "execution_count": null,
   "metadata": {},
   "outputs": [],
   "source": [
    "print(list(df.keys()))"
   ]
  },
  {
   "cell_type": "code",
   "execution_count": null,
   "metadata": {},
   "outputs": [],
   "source": [
    "df.SunAzimuth"
   ]
  },
  {
   "cell_type": "code",
   "execution_count": null,
   "metadata": {},
   "outputs": [],
   "source": [
    "df.SunElevation"
   ]
  },
  {
   "cell_type": "code",
   "execution_count": null,
   "metadata": {},
   "outputs": [],
   "source": [
    "# Put the polygon on a map to familiarize with study area\n",
    "# NOTE: this is a slippy map! You can zoom out and pan around\n",
    "footprint = gv.Shape(wkt.loads(df.ExtentsPolygon.value), label='Skysat footprint').options(alpha=0.5)\n",
    "tiles = gv.tile_sources.StamenTerrainRetina(width=700, height=500)\n",
    "labels = gv.tile_sources.StamenLabels.options(level='annotation')\n",
    "tiles * footprint * labels"
   ]
  },
  {
   "cell_type": "markdown",
   "metadata": {},
   "source": [
    "### frame_index.csv"
   ]
  },
  {
   "cell_type": "code",
   "execution_count": null,
   "metadata": {},
   "outputs": [],
   "source": [
    "def fix_polygon_wkt(string):\n",
    "    '''returns shapely geometry from reformatted WKT'''\n",
    "    pre = string[:-2]\n",
    "    first_point = string.split(',')[0].split('(')[-1]\n",
    "    fixed = f'{pre},{first_point}))'\n",
    "    return wkt.loads(fixed)"
   ]
  },
  {
   "cell_type": "code",
   "execution_count": null,
   "metadata": {},
   "outputs": [],
   "source": [
    "# Load frames GeoDataFrame\n",
    "with fs.open('pangeo-data/skysat/breckenridge/video/frame_index.csv') as f:\n",
    "    tmp = gpd.pd.read_csv(f)\n",
    "\n",
    "# NOTE: timestamps not best for index since precision to second has repeat values\n",
    "#tmp = tmp.set_index(gpd.pd.to_datetime(tmp['datetime']))\n",
    "tmp['datetime'] = gpd.pd.to_datetime(tmp.datetime)\n",
    "tmp['geom'] = tmp.geom.apply(fix_polygon_wkt)\n",
    "tmp['path'] = '/pangeo-data/skysat/breckenridge/video/frames/' + tmp['name'] + '.tiff'\n",
    "\n",
    "gf = gpd.GeoDataFrame(tmp, crs = {'init': 'epsg:4326'}, geometry='geom')"
   ]
  },
  {
   "cell_type": "code",
   "execution_count": null,
   "metadata": {},
   "outputs": [],
   "source": [
    "gf.head()"
   ]
  },
  {
   "cell_type": "code",
   "execution_count": null,
   "metadata": {},
   "outputs": [],
   "source": [
    "gf.geometry.plot() "
   ]
  },
  {
   "cell_type": "code",
   "execution_count": null,
   "metadata": {},
   "outputs": [],
   "source": [
    "print('UTC TIME:')\n",
    "print('Start:', gf.datetime.iloc[0])\n",
    "print('End: ', gf.datetime.iloc[-1])\n",
    "# NOTE: Colorado is -7 comparted to UTC\n",
    "print('Local Time ~ 10:50 AM')"
   ]
  },
  {
   "cell_type": "code",
   "execution_count": null,
   "metadata": {},
   "outputs": [],
   "source": [
    "gf.loc[:,('sat_az','sat_elev')].describe()"
   ]
  },
  {
   "cell_type": "code",
   "execution_count": null,
   "metadata": {},
   "outputs": [],
   "source": [
    "# Plot how satellite az and elevation change in time\n",
    "#plt.plot(gf.datetime, gf.sat_az)\n",
    "gf.sat_az.plot()\n",
    "for frame in [0,449,898,1348]:\n",
    "    plt.axvline(frame, linestyle=':')\n",
    "plt.ylabel('Satellite Azimuth')\n",
    "plt.title('SkySat Video - Breckenridge 2018-11-07');\n",
    "plt.xlabel('Frame #');\n",
    "plt.savefig('sat_az.pdf', bbox_inches='tight')"
   ]
  },
  {
   "cell_type": "code",
   "execution_count": null,
   "metadata": {},
   "outputs": [],
   "source": [
    "# Note: how different are subsequent time steps?\n",
    "print(gf.datetime.iloc[1], gf.datetime.iloc[2])\n",
    "# only precision to nearest second, therefore 'stairstep ' appearance"
   ]
  },
  {
   "cell_type": "code",
   "execution_count": null,
   "metadata": {},
   "outputs": [],
   "source": [
    "gf.sat_elev.plot()\n",
    "for frame in [0,449,898,1348]:\n",
    "    plt.axvline(frame, linestyle=':')\n",
    "plt.ylabel('Satellite Elevation')\n",
    "plt.xlabel('Frame #')\n",
    "plt.title('SkySat Video - Breckenridge 2018-11-07');\n",
    "plt.savefig('sat_elev.pdf', bbox_inches='tight')"
   ]
  },
  {
   "cell_type": "code",
   "execution_count": null,
   "metadata": {},
   "outputs": [],
   "source": [
    "# Recorded satellite position in time\n",
    "df = gpd.pd.DataFrame(gf.loc[:, ('q0', 'q1', 'q2', 'q3')])\n",
    "df.plot()"
   ]
  },
  {
   "cell_type": "code",
   "execution_count": null,
   "metadata": {},
   "outputs": [],
   "source": [
    "# Recorded satellite position in time\n",
    "df = gpd.pd.DataFrame(gf.loc[:, ('x_sat_eci', 'y_sat_eci', 'z_sat_eci')])\n",
    "df.plot()"
   ]
  },
  {
   "cell_type": "code",
   "execution_count": null,
   "metadata": {},
   "outputs": [],
   "source": [
    "# Pairs chosen for use in example workflow\n",
    "v1 = '1225648254.44006968_sc00004_c1_PAN'\n",
    "v2 = '1225648269.40892076_sc00004_c1_PAN'\n",
    "v3 = '1225648284.37777185_sc00004_c1_PAN'\n",
    "v4 = '1225648299.37995577_sc00004_c1_PAN'\n",
    "\n",
    "subset = [v1,v2,v3,v4]"
   ]
  },
  {
   "cell_type": "code",
   "execution_count": null,
   "metadata": {},
   "outputs": [],
   "source": [
    "sub = gf[gf.name.isin(subset)]"
   ]
  },
  {
   "cell_type": "code",
   "execution_count": null,
   "metadata": {},
   "outputs": [],
   "source": [
    "sub"
   ]
  },
  {
   "cell_type": "markdown",
   "metadata": {},
   "source": [
    "# visualize a single frame"
   ]
  },
  {
   "cell_type": "code",
   "execution_count": null,
   "metadata": {},
   "outputs": [],
   "source": [
    "sub.path.iloc[0]"
   ]
  },
  {
   "cell_type": "code",
   "execution_count": null,
   "metadata": {},
   "outputs": [],
   "source": [
    "# try connecting directly to bucket w/ rasterio\n",
    "gsPath = 'gs://pangeo-data/skysat/breckenridge/video/frames/1225648254.44006968_sc00004_c1_PAN.tiff'\n",
    "with rasterio.open(gsPath) as src:\n",
    "    print(src.profile)\n",
    "    data = src.read(1)"
   ]
  },
  {
   "cell_type": "code",
   "execution_count": null,
   "metadata": {},
   "outputs": [],
   "source": [
    "# Or access via gcsfs...\n",
    "with fs.open(sub.path.iloc[0]) as f:\n",
    "    with rasterio.open(f) as src:\n",
    "        print(src.profile)\n",
    "        data = src.read(1)"
   ]
  },
  {
   "cell_type": "code",
   "execution_count": null,
   "metadata": {},
   "outputs": [],
   "source": [
    "plt.imshow(data, cmap='gray')"
   ]
  },
  {
   "cell_type": "code",
   "execution_count": null,
   "metadata": {},
   "outputs": [],
   "source": []
  }
 ],
 "metadata": {
  "kernelspec": {
   "display_name": "Python 3",
   "language": "python",
   "name": "python3"
  },
  "language_info": {
   "codemirror_mode": {
    "name": "ipython",
    "version": 3
   },
   "file_extension": ".py",
   "mimetype": "text/x-python",
   "name": "python",
   "nbconvert_exporter": "python",
   "pygments_lexer": "ipython3",
   "version": "3.6.7"
  }
 },
 "nbformat": 4,
 "nbformat_minor": 2
}
