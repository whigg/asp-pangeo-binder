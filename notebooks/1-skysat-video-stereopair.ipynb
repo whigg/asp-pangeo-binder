{
 "cells": [
  {
   "cell_type": "markdown",
   "metadata": {},
   "source": [
    "# Demo using Pangeo to run ASP\n",
    "\n",
    "For starters, we'll just issue system commands from the Jupyter notebook, following the skysat example in the ASP handbook. Note you can also open a terminal if you prefer (File-->New--Terminal)"
   ]
  },
  {
   "cell_type": "code",
   "execution_count": null,
   "metadata": {},
   "outputs": [],
   "source": [
    "import os\n",
    "os.environ[\"PATH\"] += ':/home/jovyan/StereoPipeline/bin'"
   ]
  },
  {
   "cell_type": "code",
   "execution_count": null,
   "metadata": {},
   "outputs": [],
   "source": [
    "# Analysis packages\n",
    "import gcsfs\n",
    "import numpy as np\n",
    "import rasterio\n",
    "import rasterio.plot\n",
    "import geopandas as gpd\n",
    "from shapely import wkt\n",
    "# Visualization packages\n",
    "import matplotlib.pyplot as plt\n",
    "%matplotlib inline\n",
    "#%load_ext wurlitzer"
   ]
  },
  {
   "cell_type": "code",
   "execution_count": null,
   "metadata": {},
   "outputs": [],
   "source": [
    "import subprocess\n",
    "import sys\n",
    "\n",
    "def run_bash_command(cmd):\n",
    "    \"\"\"Call a system command through the subprocess python module.\"\"\"\n",
    "    print(cmd)\n",
    "    try:\n",
    "        retcode = subprocess.call(cmd, shell=True)\n",
    "        if retcode < 0:\n",
    "            print(\"Child was terminated by signal\", -retcode, file=sys.stderr)\n",
    "        else:\n",
    "            print(\"Child returned\", retcode, file=sys.stderr)\n",
    "    except OSError as e:\n",
    "        print(\"Execution failed:\", e, file=sys.stderr)"
   ]
  },
  {
   "cell_type": "markdown",
   "metadata": {},
   "source": [
    "## Get a reference DEM\n",
    "\n",
    "we'll use SRTM from NASA. This requires credentials in a .netrc file:\n",
    "\n",
    "NOTE: could create a function here to get SRTM, TDX, or NED based on frame footprints"
   ]
  },
  {
   "cell_type": "markdown",
   "metadata": {},
   "source": [
    "## Create a DEM with 2 skysat video frames\n",
    "\n",
    "* Download frames and metadata locally for processing"
   ]
  },
  {
   "cell_type": "code",
   "execution_count": null,
   "metadata": {},
   "outputs": [],
   "source": [
    "# Load geopandas GeoDataFrame to keep track of frames\n",
    "# Load frames GeoDataFrame\n",
    "fs = gcsfs.GCSFileSystem(project='pangeo-181919')\n",
    "\n",
    "def fix_polygon_wkt(string):\n",
    "    '''returns shapely geometry from reformatted WKT'''\n",
    "    pre = string[:-2]\n",
    "    first_point = string.split(',')[0].split('(')[-1]\n",
    "    fixed = f'{pre},{first_point}))'\n",
    "    return wkt.loads(fixed)\n",
    "\n",
    "with fs.open('pangeo-data/skysat/breckenridge/video/frame_index.csv') as f:\n",
    "    tmp = gpd.pd.read_csv(f)\n",
    "\n",
    "# NOTE: timestamps not best for index since precision to second has repeat values\n",
    "#tmp = tmp.set_index(gpd.pd.to_datetime(tmp['datetime']))\n",
    "tmp['datetime'] = gpd.pd.to_datetime(tmp.datetime)\n",
    "tmp['geom'] = tmp.geom.apply(fix_polygon_wkt)\n",
    "tmp['path'] = '/pangeo-data/skysat/breckenridge/video/frames/' + tmp['name'] + '.tiff'\n",
    "\n",
    "gf = gpd.GeoDataFrame(tmp, crs = {'init': 'epsg:4326'}, geometry='geom')"
   ]
  },
  {
   "cell_type": "code",
   "execution_count": null,
   "metadata": {},
   "outputs": [],
   "source": [
    "gf.head()"
   ]
  },
  {
   "cell_type": "code",
   "execution_count": null,
   "metadata": {},
   "outputs": [],
   "source": [
    "path = 'pangeo-data/skysat/breckenridge/video'\n",
    "fs.get(f'{path}/frame_index.csv', 'frame_index.csv')\n",
    "fs.get(f'{path}/ref_dem.tif', 'ref_dem.tif')\n",
    "\n",
    "v1 = '1225648254.44006968_sc00004_c1_PAN'\n",
    "v2 = '1225648269.40892076_sc00004_c1_PAN'\n",
    "\n",
    "fs.get(f'{path}/frames/{v1}.tiff', f'{v1}.tiff')\n",
    "fs.get(f'{path}/frames/{v2}.tiff', f'{v2}.tiff')\n"
   ]
  },
  {
   "cell_type": "code",
   "execution_count": null,
   "metadata": {},
   "outputs": [],
   "source": [
    "def cam_gen(frame, refDEM, frameIndex): \n",
    "    \"\"\" Settings hard-coded for SkySat cameras \"\"\"\n",
    "    cmd = f'''cam_gen {frame}.tiff  \\\n",
    "  --reference-dem {refDEM} --focal-length 553846.153846            \\\n",
    "  --optical-center 1280 540 --pixel-pitch 1 --height-above-datum 4000 \\\n",
    "  --refine-camera --frame-index {frameIndex}          \\\n",
    "  --gcp-std 1e-2 -o {frame}.tsai --gcp-file {frame}.gcp 2>&1 | tee cam_gen.log'''\n",
    "    run_bash_command(cmd)"
   ]
  },
  {
   "cell_type": "code",
   "execution_count": null,
   "metadata": {},
   "outputs": [],
   "source": [
    "refDEM = 'ref_dem.tif'\n",
    "frameIndex= 'frame_index.csv'\n",
    "cam_gen(v1, refDEM, frameIndex)"
   ]
  },
  {
   "cell_type": "code",
   "execution_count": null,
   "metadata": {},
   "outputs": [],
   "source": [
    "cam_gen(v2, refDEM, frameIndex)"
   ]
  },
  {
   "cell_type": "code",
   "execution_count": null,
   "metadata": {},
   "outputs": [],
   "source": [
    "def map_project(image, camera, output, refDEM, lon0, lat0):\n",
    "    cmd = f'''mapproject --t_srs \\\n",
    "  '+proj=stere +lat_0={lat0} +lon_0={lon0} +k=1 +x_0=0 +y_0=0 +datum=WGS84 +units=m' \\\n",
    "  {refDEM} {image} {camera} {output} 2>&1 | tee mapproject.log'''\n",
    "    run_bash_command(cmd)"
   ]
  },
  {
   "cell_type": "code",
   "execution_count": null,
   "metadata": {},
   "outputs": [],
   "source": [
    "# NOTE: get approximate lon,lat center of frame, could alternatively use reference dem\n",
    "with rasterio.open(refDEM) as src:\n",
    "    lon,lat0 = src.lnglat()\n",
    "    lon0 = 360 + lon\n",
    "\n",
    "#test = gf.query('name == @v1')\n",
    "#lon0 = 360 + test.centroid.x.values[0]\n",
    "#lat0 = test.centroid.y.values[0]\n",
    "print(lon0, lat0)"
   ]
  },
  {
   "cell_type": "code",
   "execution_count": null,
   "metadata": {},
   "outputs": [],
   "source": [
    "image = v1+'.tiff'\n",
    "camera = v1+'.tsai'\n",
    "output = v1+'_map.tiff'\n",
    "map_project(image, camera, output, refDEM, lon0, lat0)"
   ]
  },
  {
   "cell_type": "code",
   "execution_count": null,
   "metadata": {},
   "outputs": [],
   "source": [
    "image = v2+'.tiff'\n",
    "camera = v2+'.tsai'\n",
    "output = v2+'_map.tiff'\n",
    "map_project(image, camera, output, refDEM, lon0, lat0)"
   ]
  },
  {
   "cell_type": "code",
   "execution_count": null,
   "metadata": {},
   "outputs": [],
   "source": [
    "def bundle_adjust(images, cameras, gcps, outdir):\n",
    "    '''for now pass inputs as lists '''\n",
    "    images = ' '.join(images)\n",
    "    cameras = ' '.join(cameras)\n",
    "    gcps = ' '.join(gcps)\n",
    "    cmd = f'''bundle_adjust {images} {cameras} {gcps} -o {outdir} -t nadirpinhole \\\n",
    " --datum WGS84 --ip-per-tile 2000 --robust-threshold 100 --max-iterations 500   \\\n",
    " --overlap-limit 4 --inline-adjustments --camera-weight 0                       \\\n",
    " --disable-tri-ip-filter --disable-pinhole-gcp-init --skip-rough-homography     \\\n",
    " --force-reuse-match-files 2>&1 | tee bundle_adjust.log'''\n",
    "    run_bash_command(cmd)"
   ]
  },
  {
   "cell_type": "code",
   "execution_count": null,
   "metadata": {},
   "outputs": [],
   "source": [
    "images = [x+'.tiff' for x in (v1,v2)]\n",
    "cameras = [x+'.tsai' for x in (v1,v2)]\n",
    "gcps = [x+'.gcp' for x in (v1,v2)]"
   ]
  },
  {
   "cell_type": "code",
   "execution_count": null,
   "metadata": {},
   "outputs": [],
   "source": [
    "bundle_adjust(images, cameras, gcps, outdir='ba/run')"
   ]
  },
  {
   "cell_type": "code",
   "execution_count": null,
   "metadata": {},
   "outputs": [],
   "source": [
    "def run_diagnostics(baDir,refDEM,lon0,lat0):\n",
    "    cmd = f'''pc_align --max-displacement 1000 --csv-format 1:lon,2:lat,3:height_above_datum   \\\n",
    "   ref_dem.tif {baDir}/run-final_residuals_no_loss_function_pointmap_point_log.csv     \\\n",
    "   --save-transformed-source-points -o {baDir}/run 2>&1 | tee diagnose_pc_align.log &&\n",
    "\n",
    "point2dem --stereographic --proj-lon {lon0} --proj-lat {lat0}            \\\n",
    "   --tr 30 --csv-format 1:lon,2:lat,3:height_above_datum {baDir}/run-trans_source.csv 2>&1 | tee diagnose_point2dem.log &&\n",
    "\n",
    "geodiff --absolute --csv-format 1:lon,2:lat,3:height_above_datum \\\n",
    "  ref_dem.tif {baDir}/run-trans_source.csv -o {baDir}/run 2>&1 | tee diagnose_geodiff.log'''\n",
    "    run_bash_command(cmd)"
   ]
  },
  {
   "cell_type": "code",
   "execution_count": null,
   "metadata": {},
   "outputs": [],
   "source": [
    "run_diagnostics('ba', refDEM, lon0, lat0)"
   ]
  },
  {
   "cell_type": "code",
   "execution_count": null,
   "metadata": {},
   "outputs": [],
   "source": [
    "# Do a refined bundle ajust and check errors\n",
    "def bundle_adjust_refine(images, cameras, baDir, outdir):\n",
    "    images_str = ' '.join(images)\n",
    "    cameras_str = ' '.join(cameras)\n",
    "    cmd = f'''bundle_adjust {images_str}  {cameras_str} -o {outdir}               \\\n",
    "   -t nadirpinhole --max-iterations 0 --overlap-limit 1 --inline-adjustments \\\n",
    "   --camera-weight 0 --initial-transform {baDir}/run-transform.txt 2>&1 | tee bundle_adjust_refine.log'''\n",
    "    run_bash_command(cmd)"
   ]
  },
  {
   "cell_type": "code",
   "execution_count": null,
   "metadata": {},
   "outputs": [],
   "source": [
    "baDir = 'ba'\n",
    "outdir = 'ba_align/run'\n",
    "images = [x+'.tiff' for x in (v1,v2)]\n",
    "cameras = ['ba/run-'+x+'.tsai' for x in (v1,v2)]\n",
    "\n",
    "bundle_adjust_refine(images, cameras, baDir, outdir)"
   ]
  },
  {
   "cell_type": "code",
   "execution_count": null,
   "metadata": {},
   "outputs": [],
   "source": [
    "run_diagnostics('ba_align', refDEM, lon0, lat0)"
   ]
  },
  {
   "cell_type": "markdown",
   "metadata": {},
   "source": [
    "#### NOTE that differences have been reduced"
   ]
  },
  {
   "cell_type": "code",
   "execution_count": null,
   "metadata": {},
   "outputs": [],
   "source": [
    "image = f'{v1}.tiff'\n",
    "camera = f'ba_align/run-run-{v1}.tsai'\n",
    "output = f'{v1}_map_align.tif'\n",
    "map_project(image, camera, output, refDEM, lon0, lat0)"
   ]
  },
  {
   "cell_type": "code",
   "execution_count": null,
   "metadata": {},
   "outputs": [],
   "source": [
    "image = f'{v2}.tiff'\n",
    "camera = f'ba_align/run-run-{v2}.tsai'\n",
    "output = f'{v2}_map_align.tif'\n",
    "map_project(image, camera, output, refDEM, lon0, lat0)"
   ]
  },
  {
   "cell_type": "code",
   "execution_count": null,
   "metadata": {},
   "outputs": [],
   "source": [
    "def stereo_dem(image1, image2, camera1, camera2, output, lon0, lat0):\n",
    "    cmd = f'''stereo {image1} {image2} {camera1} {camera2} {output} --session-type nadirpinhole \\\n",
    "--cost-mode 4 --stereo-algorithm 2 --corr-seed-mode 1 \\\n",
    "--alignment-method affineepipolar --corr-tile-size 9000 \\\n",
    "--num-matches-from-disp-triplets 10000 --unalign-disparity 2>&1 | tee stereo_dem.log'''\n",
    "    run_bash_command(cmd)"
   ]
  },
  {
   "cell_type": "code",
   "execution_count": null,
   "metadata": {},
   "outputs": [],
   "source": [
    "# NOTE: input original unprojected images, but with camera models based on aligned\n",
    "image1 = f'{v1}.tiff'\n",
    "image2 = f'{v2}.tiff'\n",
    "camera1 = f'ba_align/run-run-{v1}.tsai'\n",
    "camera2 = f'ba_align/run-run-{v2}.tsai'\n",
    "output = 'stereo_align/run'"
   ]
  },
  {
   "cell_type": "code",
   "execution_count": null,
   "metadata": {},
   "outputs": [],
   "source": [
    "stereo_dem(image1, image2, camera1, camera2, output, lon0, lat0)"
   ]
  },
  {
   "cell_type": "code",
   "execution_count": null,
   "metadata": {},
   "outputs": [],
   "source": [
    "def point2dem(stereoDir, lon0, lat0):\n",
    "    cmd = f'point2dem --stereographic --proj-lon {lon0} --proj-lat {lat0} --tr 4  \\\n",
    "    --errorimage {stereoDir}/run-PC.tif 2>&1 | tee point2dem.log'\n",
    "    run_bash_command(cmd)"
   ]
  },
  {
   "cell_type": "code",
   "execution_count": null,
   "metadata": {},
   "outputs": [],
   "source": [
    "stereoDir = 'stereo_align'\n",
    "point2dem(stereoDir, lon0, lat0)"
   ]
  },
  {
   "cell_type": "markdown",
   "metadata": {},
   "source": [
    "# Examine quality of resulting DEM"
   ]
  },
  {
   "cell_type": "code",
   "execution_count": null,
   "metadata": {},
   "outputs": [],
   "source": [
    "!gdalinfo -stats stereo_align/run-IntersectionErr.tif | grep Mean"
   ]
  },
  {
   "cell_type": "code",
   "execution_count": null,
   "metadata": {},
   "outputs": [],
   "source": [
    "# NOTE: second DEM is subsampled to match first (so 30m --> 4m)\n",
    "!geodiff --absolute stereo_align/run-DEM.tif {refDEM} -o abs\n",
    "!gdalinfo -stats abs-diff.tif | grep Mean"
   ]
  },
  {
   "cell_type": "code",
   "execution_count": null,
   "metadata": {},
   "outputs": [],
   "source": [
    "# NOTE: don't take absolute value of difference\n",
    "!geodiff stereo_align/run-DEM.tif {refDEM} -o dif\n",
    "!gdalinfo -stats dif-diff.tif | grep Mean"
   ]
  },
  {
   "cell_type": "code",
   "execution_count": null,
   "metadata": {},
   "outputs": [],
   "source": [
    "# Hillshade matching illumination from metadata\n",
    "!gdaldem hillshade -az 163 -alt 32 stereo_align/run-DEM.tif stereo_align/run-hillshade.tif "
   ]
  },
  {
   "cell_type": "code",
   "execution_count": null,
   "metadata": {},
   "outputs": [],
   "source": [
    "# Plot original frames\n",
    "fig, axes = plt.subplots(2,1,figsize=(11,8.5), sharex=True, sharey=True)\n",
    "\n",
    "gsPath = f'gs://pangeo-data/skysat/breckenridge/video/frames/{v1}.tiff'\n",
    "with rasterio.open(gsPath) as src:\n",
    "    #print(src.profile)\n",
    "    rasterio.plot.show(src, ax=axes[0], cmap='gray', title=v1)\n",
    "    \n",
    "gsPath = f'gs://pangeo-data/skysat/breckenridge/video/frames/{v2}.tiff'\n",
    "with rasterio.open(gsPath) as src:\n",
    "    #print(src.profile)\n",
    "    rasterio.plot.show(src, ax=axes[1], cmap='gray', title=v2)"
   ]
  },
  {
   "cell_type": "code",
   "execution_count": null,
   "metadata": {},
   "outputs": [],
   "source": [
    "# Plot map-projected frames\n",
    "fig, axes = plt.subplots(3,1,figsize=(17,11), sharex=True, sharey=True)\n",
    "\n",
    "frame = v1 + '_map_align.tif'\n",
    "with rasterio.open(frame) as src:\n",
    "    #print(src.profile)\n",
    "    rasterio.plot.show(src, ax=axes[0], cmap='gray', title=v1)\n",
    "    \n",
    "frame = v2 + '_map_align.tif'\n",
    "with rasterio.open(frame) as src:\n",
    "    #print(src.profile)\n",
    "    rasterio.plot.show(src, ax=axes[1], cmap='gray', title=v2)\n",
    "    \n",
    "with rasterio.open('stereo_align/run-hillshade.tif') as src:\n",
    "    #print(src.profile)\n",
    "    rasterio.plot.show(src, ax=axes[2],  cmap='gray', title='Hillshade')"
   ]
  },
  {
   "cell_type": "code",
   "execution_count": null,
   "metadata": {},
   "outputs": [],
   "source": [
    "# Some basic quantitative figures\n",
    "with rasterio.open('ref_dem.tif') as src:\n",
    "    print(src.profile)\n",
    "    data = src.read()\n",
    "    #data[data==src.nodata] = np.nan\n",
    "\n",
    "plt.title('Reference DEM')\n",
    "plt.imshow(data[0])\n",
    "plt.colorbar(shrink=0.6);"
   ]
  },
  {
   "cell_type": "code",
   "execution_count": null,
   "metadata": {},
   "outputs": [],
   "source": [
    "# Stereo DEM\n",
    "with rasterio.open('stereo_align/run-DEM.tif') as src:\n",
    "    print(src.profile)\n",
    "    data = src.read()\n",
    "    data[data==src.nodata] = np.nan\n",
    "\n",
    "plt.title('Stereo DEM')\n",
    "plt.imshow(data[0])\n",
    "plt.colorbar(shrink=0.6);"
   ]
  },
  {
   "cell_type": "code",
   "execution_count": null,
   "metadata": {},
   "outputs": [],
   "source": [
    "# Difference between Stereo and Reference from 'geodiff command'\n",
    "with rasterio.open('abs-diff.tif') as src:\n",
    "    print(src.profile)\n",
    "    data = src.read()\n",
    "    data[data==src.nodata] = np.nan\n",
    "\n",
    "plt.title('abs(Stereo DEM - Ref DEM)')\n",
    "plt.imshow(data[0], cmap='plasma')\n",
    "cb = plt.colorbar(shrink=0.6)\n",
    "cb.set_label('[meters]')"
   ]
  },
  {
   "cell_type": "code",
   "execution_count": null,
   "metadata": {},
   "outputs": [],
   "source": [
    "# Histogram of differences\n",
    "results = plt.hist(data[np.isfinite(data)], bins=50)"
   ]
  },
  {
   "cell_type": "code",
   "execution_count": null,
   "metadata": {},
   "outputs": [],
   "source": [
    "with rasterio.open('dif-diff.tif') as src:\n",
    "    print(src.profile)\n",
    "    data = src.read()\n",
    "    data[data==src.nodata] = np.nan\n",
    "\n",
    "plt.figure()\n",
    "plt.title('Stereo DEM - Ref DEM')\n",
    "plt.imshow(data[0], cmap='bwr', vmin=-30, vmax=30)\n",
    "cb = plt.colorbar(shrink=0.6)\n",
    "cb.set_label('[meters]')\n",
    "\n",
    "# Histogram of differences\n",
    "plt.figure()\n",
    "results = plt.hist(data[np.isfinite(data)], bins=50)\n",
    "plt.axvline(0, color='red', linestyle='dashed')\n",
    "plt.xlabel('Elevation difference [m]')\n",
    "plt.ylabel('#pixels')"
   ]
  }
 ],
 "metadata": {
  "kernelspec": {
   "display_name": "Python 3",
   "language": "python",
   "name": "python3"
  },
  "language_info": {
   "codemirror_mode": {
    "name": "ipython",
    "version": 3
   },
   "file_extension": ".py",
   "mimetype": "text/x-python",
   "name": "python",
   "nbconvert_exporter": "python",
   "pygments_lexer": "ipython3",
   "version": "3.7.2"
  }
 },
 "nbformat": 4,
 "nbformat_minor": 2
}
